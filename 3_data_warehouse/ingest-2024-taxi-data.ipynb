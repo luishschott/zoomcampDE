{
 "cells": [
  {
   "cell_type": "code",
   "execution_count": null,
   "metadata": {},
   "outputs": [],
   "source": [
    "import sys\n",
    "import os\n",
    "from google.cloud import storage"
   ]
  },
  {
   "cell_type": "code",
   "execution_count": null,
   "metadata": {},
   "outputs": [],
   "source": [
    "def download(taxi_color, year, month):\n",
    "    filename = f'{taxi_color}_tripdata_{year}-{month}.parquet'\n",
    "    os.system(f'wget https://d37ci6vzurychx.cloudfront.net/trip-data/{filename} -O {filename}' )\n",
    "    print(f'{filename} DOWNLOADED')\n",
    "\n",
    "\n",
    "def upload_to_bucket(taxi_color, year, month):\n",
    "    \n",
    "    storage_client = storage.Client()\n",
    "    bucket_name = \"taxi_data_448017\"\n",
    "    blob_name = f\"{taxi_color}_tripdata_{year}-{month}.parquet\"\n",
    "    bucket = storage_client.get_bucket(bucket_name)\n",
    "    blob = bucket.blob(blob_name)\n",
    "    blob.upload_from_filename(blob_name)\n",
    "\n",
    "    print(f\"{blob_name} UPLOADED.\")"
   ]
  },
  {
   "cell_type": "code",
   "execution_count": null,
   "metadata": {},
   "outputs": [],
   "source": [
    "year = '2024'\n",
    "taxi = 'yellow'\n",
    "\n",
    "for i in range(1,2):\n",
    "    s = f'{i:02}'\n",
    "\n",
    "    download('yellow', '2024', s)\n",
    "    upload_to_bucket('yellow', '2024', '01')"
   ]
  }
 ],
 "metadata": {
  "kernelspec": {
   "display_name": "Python 3",
   "language": "python",
   "name": "python3"
  },
  "language_info": {
   "codemirror_mode": {
    "name": "ipython",
    "version": 3
   },
   "file_extension": ".py",
   "mimetype": "text/x-python",
   "name": "python",
   "nbconvert_exporter": "python",
   "pygments_lexer": "ipython3",
   "version": "3.12.8"
  }
 },
 "nbformat": 4,
 "nbformat_minor": 2
}
